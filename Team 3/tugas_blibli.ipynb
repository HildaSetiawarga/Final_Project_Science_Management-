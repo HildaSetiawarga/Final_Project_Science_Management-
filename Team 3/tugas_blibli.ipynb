{
 "cells": [
  {
   "cell_type": "code",
   "execution_count": 1,
   "metadata": {},
   "outputs": [],
   "source": [
    "import pandas as pd"
   ]
  },
  {
   "cell_type": "code",
   "execution_count": 2,
   "metadata": {},
   "outputs": [],
   "source": [
    "customer = pd.read_csv('customer_data.csv')\n",
    "hub = pd.read_csv('hub_data.csv')\n",
    "hub_2 = pd.read_csv('hub2_data.csv') \n",
    "warehouse = pd.read_csv('warehouse_data.csv')"
   ]
  },
  {
   "cell_type": "code",
   "execution_count": 3,
   "metadata": {},
   "outputs": [],
   "source": [
    "cust_id = customer['id'].values\n",
    "cust_long = customer['Longitude'].values\n",
    "cust_lat = customer['Latitude'].values"
   ]
  },
  {
   "cell_type": "code",
   "execution_count": 4,
   "metadata": {},
   "outputs": [
    {
     "name": "stdout",
     "output_type": "stream",
     "text": [
      "id:  Angke_Hub \t longitude:  106.796989 \t latitude:  -6.145263\n",
      "id:  Cawang_Hub \t longitude:  106.868149 \t latitude:  -6.2487010000000005\n",
      "id:  Cakung_Hub \t longitude:  106.93426299999999 \t latitude:  -6.188618\n",
      "id:  Bekasi_Hub \t longitude:  107.00908500000001 \t latitude:  -6.26234\n",
      "id:  Bogor Citereup_Hub \t longitude:  106.86634699999999 \t latitude:  -6.504658\n",
      "id:  Karawaci_Hub \t longitude:  106.61921000000001 \t latitude:  -6.184661\n"
     ]
    }
   ],
   "source": [
    "hub_name = hub['Hub'].values\n",
    "hub_long = hub['Longitude'].values\n",
    "hub_lat = hub['Latitude'].values\n",
    "for i in range(len(hub_name)):\n",
    "    print('id: ', hub_name[i], '\\t', 'longitude: ', hub_long[i], '\\t', 'latitude: ', hub_lat[i])"
   ]
  },
  {
   "cell_type": "code",
   "execution_count": 5,
   "metadata": {},
   "outputs": [
    {
     "name": "stdout",
     "output_type": "stream",
     "text": [
      "id:  Angke_Hub \t longitude:  106.796989 \t latitude:  -6.145263\n",
      "id:  Cawang_Hub \t longitude:  106.868149 \t latitude:  -6.2487010000000005\n",
      "id:  Cakung_Hub \t longitude:  106.93426299999999 \t latitude:  -6.188618\n",
      "id:  Bekasi_Hub \t longitude:  107.00908500000001 \t latitude:  -6.26234\n",
      "id:  Bogor Citereup_Hub \t longitude:  106.86634699999999 \t latitude:  -6.504658\n",
      "id:  Karawaci_Hub \t longitude:  106.61921000000001 \t latitude:  -6.184661\n"
     ]
    }
   ],
   "source": [
    "hub2_name = hub_2['Hub'].values\n",
    "hub2_long = hub_2['Longitude'].values\n",
    "hub2_lat = hub_2['Latitude'].values\n",
    "for i in range(len(hub2_name)):\n",
    "    print('id: ', hub2_name[i], '\\t', 'longitude: ', hub2_long[i], '\\t', 'latitude: ', hub2_lat[i])"
   ]
  },
  {
   "cell_type": "code",
   "execution_count": 6,
   "metadata": {},
   "outputs": [
    {
     "name": "stdout",
     "output_type": "stream",
     "text": [
      "id:  Cawang_Wh longitude:  106.891 latitude:  -6.244557\n",
      "id:  Cakung_Wh longitude:  106.940054 latitude:  -6.172207\n",
      "id:  Ceper_Wh longitude:  106.66933999999999 latitude:  -6.155112\n",
      "id:  Karawaci_Wh longitude:  106.627108 latitude:  -6.2012\n"
     ]
    }
   ],
   "source": [
    "whouse_name = warehouse['Warehouse'].values\n",
    "whouse_long = warehouse['Longitude'].values\n",
    "whouse_lat = warehouse['Latitude'].values\n",
    "for i in range(len(whouse_name)):\n",
    "    print('id: ', whouse_name[i], 'longitude: ', whouse_long[i], 'latitude: ', whouse_lat[i])"
   ]
  },
  {
   "cell_type": "code",
   "execution_count": 7,
   "metadata": {},
   "outputs": [],
   "source": [
    "from scipy.spatial import distance"
   ]
  },
  {
   "cell_type": "code",
   "execution_count": 8,
   "metadata": {},
   "outputs": [],
   "source": [
    "def customer_to_hub(cust_id, cust_long, cust_lat, hub_name, hub_long, hub_lat):\n",
    "    A = (cust_long, cust_lat)\n",
    "    B = (hub_long, hub_lat)\n",
    "    return  distance.euclidean(A, B)"
   ]
  },
  {
   "cell_type": "code",
   "execution_count": 9,
   "metadata": {},
   "outputs": [],
   "source": [
    "def customer_to_warehouse(cust_id, cust_long, cust_lat, whouse_name, whouse_long, whouse_lat):\n",
    "    A = (cust_long, cust_lat)\n",
    "    B = (whouse_long, whouse_lat)\n",
    "    return distance.euclidean(A, B)"
   ]
  },
  {
   "cell_type": "code",
   "execution_count": 10,
   "metadata": {},
   "outputs": [],
   "source": [
    "def hub_to_hub(hub_name, hub_long, hub_lat, hub2_name, hub2_long, hub2_lat):\n",
    "    A = (hub_long, hub_lat)\n",
    "    B = (hub2_long, hub2_lat)\n",
    "    return distance.euclidean(A, B)"
   ]
  },
  {
   "cell_type": "code",
   "execution_count": 11,
   "metadata": {},
   "outputs": [],
   "source": [
    "def hub_to_warehouse(hub_id, hub_long, hub_lat, whouse_name, whouse_long, whouse_lat):\n",
    "    A = (hub_long, hub_lat)\n",
    "    B = (whouse_long, whouse_lat)\n",
    "    return distance.euclidean(A, B)"
   ]
  },
  {
   "cell_type": "code",
   "execution_count": 12,
   "metadata": {
    "scrolled": true
   },
   "outputs": [],
   "source": [
    "customerHub = [[ [customer_to_hub(cust_id[j], cust_long[j], cust_lat[j], hub_name[i], hub_long[i], hub_lat[i]), hub_name[i]] for i in range(6)] for j in range(30)]\n",
    "#print(customerHub)"
   ]
  },
  {
   "cell_type": "code",
   "execution_count": 13,
   "metadata": {},
   "outputs": [
    {
     "name": "stdout",
     "output_type": "stream",
     "text": [
      "customer 1 [0.04890009580767921, 'Cawang_Hub']\n",
      "customer 2 [0.0976853357725475, 'Bekasi_Hub']\n",
      "customer 3 [0.8578521031926291, 'Bogor Citereup_Hub']\n",
      "customer 4 [0.03406567985524908, 'Angke_Hub']\n",
      "customer 5 [0.03308948681984957, 'Angke_Hub']\n",
      "customer 6 [0.045997884668762465, 'Angke_Hub']\n",
      "customer 7 [0.062281733325279545, 'Angke_Hub']\n",
      "customer 8 [0.056527354528575664, 'Cawang_Hub']\n",
      "customer 9 [0.014471130743663081, 'Cawang_Hub']\n",
      "customer 10 [0.008492862002875818, 'Angke_Hub']\n",
      "customer 11 [0.041722624318207994, 'Cakung_Hub']\n",
      "customer 12 [0.06635384890871127, 'Cawang_Hub']\n",
      "customer 13 [0.05129073932982752, 'Cawang_Hub']\n",
      "customer 14 [0.031082859344025198, 'Angke_Hub']\n",
      "customer 15 [0.026749032748872963, 'Cawang_Hub']\n",
      "customer 16 [0.027509777552728657, 'Cawang_Hub']\n",
      "customer 17 [0.09364758399980186, 'Cawang_Hub']\n",
      "customer 18 [0.10241815031525268, 'Angke_Hub']\n",
      "customer 19 [0.0496342602846008, 'Angke_Hub']\n",
      "customer 20 [0.07380264363828443, 'Angke_Hub']\n",
      "customer 21 [0.06716693073976451, 'Angke_Hub']\n",
      "customer 22 [0.060626120748384575, 'Cakung_Hub']\n",
      "customer 23 [0.027566935883416573, 'Angke_Hub']\n",
      "customer 24 [0.9759274483551764, 'Bogor Citereup_Hub']\n",
      "customer 25 [0.10812728218169232, 'Cawang_Hub']\n",
      "customer 26 [0.07125011815429412, 'Cawang_Hub']\n",
      "customer 27 [0.10954252799712948, 'Cawang_Hub']\n",
      "customer 28 [0.49737636525372736, 'Karawaci_Hub']\n",
      "customer 29 [0.07753102710527557, 'Angke_Hub']\n",
      "customer 30 [0.07583800053403195, 'Angke_Hub']\n"
     ]
    }
   ],
   "source": [
    "for i in range(len(customerHub)):\n",
    "    customerHub[i].sort(key = lambda x : x[0])\n",
    "    print('customer', i+1, customerHub[i][0])"
   ]
  },
  {
   "cell_type": "code",
   "execution_count": 14,
   "metadata": {},
   "outputs": [],
   "source": [
    "customerWhouse= [[ [customer_to_warehouse(cust_id[j], cust_long[j], cust_lat[j], whouse_name[i], whouse_long[i], whouse_lat[i]), whouse_name[i]] for i in range(4)] for j in range(30)]\n",
    "#print(customerWhouse)"
   ]
  },
  {
   "cell_type": "code",
   "execution_count": 16,
   "metadata": {},
   "outputs": [],
   "source": [
    "for i in range(len(customerWhouse)):\n",
    "    customerWhouse[i].sort(key = lambda x : x[0])\n",
    "    #print(customerWhouse[i][0])"
   ]
  },
  {
   "cell_type": "code",
   "execution_count": 18,
   "metadata": {},
   "outputs": [],
   "source": [
    "hubToHub = [[ [hub_to_hub(hub_name[j], hub_long[j], hub_lat[j], hub2_name[i], hub2_long[i], hub2_lat[i]), hub2_name[i]] for i in range(6)] for j in range(6)]\n",
    "#print(hubToHub)"
   ]
  },
  {
   "cell_type": "code",
   "execution_count": 19,
   "metadata": {},
   "outputs": [
    {
     "name": "stdout",
     "output_type": "stream",
     "text": [
      "[0.1255514454078526, 'Cawang_Hub']\n",
      "[0.08933659879913741, 'Cakung_Hub']\n",
      "[0.08933659879913741, 'Cawang_Hub']\n",
      "[0.10503934961719769, 'Cakung_Hub']\n",
      "[0.25596334318218267, 'Cawang_Hub']\n",
      "[0.1820922163218278, 'Angke_Hub']\n"
     ]
    }
   ],
   "source": [
    "for i in range(len(hubToHub)):\n",
    "    hubToHub[i].sort(key = lambda x : x[0])\n",
    "    print(hubToHub[i][1])  "
   ]
  },
  {
   "cell_type": "code",
   "execution_count": 22,
   "metadata": {
    "scrolled": true
   },
   "outputs": [],
   "source": [
    "hubToWhouse = [[ [hub_to_warehouse(hub_name[j], hub_long[j], hub_lat[j], whouse_name[i], whouse_long[i], whouse_lat[i]), whouse_name[i]] for i in range(4)] for j in range(6)]\n",
    "#print(hubToWhouse)\n",
    "#print(len(hubToWhouse))"
   ]
  },
  {
   "cell_type": "code",
   "execution_count": 23,
   "metadata": {
    "scrolled": true
   },
   "outputs": [
    {
     "name": "stdout",
     "output_type": "stream",
     "text": [
      "[0.1280283952957364, 'Ceper_Wh']\n",
      "[0.023223714969834844, 'Cawang_Wh']\n",
      "[0.01740277569815172, 'Cakung_Wh']\n",
      "[0.11353077402185405, 'Cakung_Wh']\n",
      "[0.2612667231202638, 'Cawang_Wh']\n",
      "[0.018328036583331906, 'Karawaci_Wh']\n"
     ]
    }
   ],
   "source": [
    "for i in range(len(hubToWhouse)):\n",
    "    hubToWhouse[i].sort(key = lambda x : x[0])\n",
    "    print(hubToWhouse[i][0])"
   ]
  },
  {
   "cell_type": "code",
   "execution_count": 24,
   "metadata": {},
   "outputs": [
    {
     "name": "stdout",
     "output_type": "stream",
     "text": [
      "customer 1 -> [0.04890009580767921, 'Cawang_Hub']\n",
      "customer 2 -> [0.0976853357725475, 'Bekasi_Hub']\n",
      "customer 3 -> [0.8578521031926291, 'Bogor Citereup_Hub']\n",
      "customer 4 -> [0.03406567985524908, 'Angke_Hub']\n",
      "customer 5 -> [0.03308948681984957, 'Angke_Hub']\n",
      "customer 6 -> [0.045997884668762465, 'Angke_Hub']\n",
      "customer 7 -> [0.062281733325279545, 'Angke_Hub']\n",
      "customer 8 -> [0.05142353442733911, 'Cawang_Wh']\n",
      "customer 9 -> [0.01189860630493703, 'Cawang_Wh']\n",
      "customer 10 -> [0.008492862002875818, 'Angke_Hub']\n",
      "customer 11 -> [0.041722624318207994, 'Cakung_Hub']\n",
      "customer 12 -> [0.06635384890871127, 'Cawang_Hub']\n",
      "customer 13 -> [0.05129073932982752, 'Cawang_Hub']\n",
      "customer 14 -> [0.031082859344025198, 'Angke_Hub']\n",
      "customer 15 -> [0.026749032748872963, 'Cawang_Hub']\n",
      "customer 16 -> [0.027509777552728657, 'Cawang_Hub']\n",
      "customer 17 -> [0.09364758399980186, 'Cawang_Hub']\n",
      "customer 18 -> [0.07669772716320501, 'Ceper_Wh']\n",
      "customer 19 -> [0.0496342602846008, 'Angke_Hub']\n",
      "customer 20 -> [0.07380264363828443, 'Angke_Hub']\n",
      "customer 21 -> [0.06716693073976451, 'Angke_Hub']\n",
      "customer 22 -> [0.060626120748384575, 'Cakung_Hub']\n",
      "customer 23 -> [0.027566935883416573, 'Angke_Hub']\n",
      "customer 24 -> [0.9759274483551764, 'Bogor Citereup_Hub']\n",
      "customer 25 -> [0.10812728218169232, 'Cawang_Hub']\n",
      "customer 26 -> [0.07125011815429412, 'Cawang_Hub']\n",
      "customer 27 -> [0.10954252799712948, 'Cawang_Hub']\n",
      "customer 28 -> [0.49737636525372736, 'Karawaci_Hub']\n",
      "customer 29 -> [0.06395311784425625, 'Ceper_Wh']\n",
      "customer 30 -> [0.06809304132582611, 'Ceper_Wh']\n"
     ]
    }
   ],
   "source": [
    "nearestFromCustomer = []\n",
    "for i in range(30):\n",
    "    if customerHub[i][0] < customerWhouse[i][0]:\n",
    "        nearestFromCustomer.append(customerHub[i][0])\n",
    "    else:\n",
    "        nearestFromCustomer.append(customerWhouse[i][0])\n",
    "        \n",
    "    print('customer', i+1, '->', nearestFromCustomer[i])"
   ]
  },
  {
   "cell_type": "code",
   "execution_count": 25,
   "metadata": {},
   "outputs": [
    {
     "name": "stdout",
     "output_type": "stream",
     "text": [
      "customer1 ->  [0.04890009580767921, 'Cawang_Hub'] -> [[0.023223714969834844, 'Cawang_Wh']]\n",
      "total cost: 0.07212381077751406\n"
     ]
    }
   ],
   "source": [
    "#customer 1\n",
    "customer1 = []\n",
    "if hubToHub[1][1] < hubToWhouse[1][0]:\n",
    "    print('error')\n",
    "else: \n",
    "    customer1.append(hubToWhouse[1][0])\n",
    "#print(customer1)\n",
    "print('customer1 -> ', nearestFromCustomer[0], '->', customer1)\n",
    "print('total cost:',nearestFromCustomer[0][0] + customer1[0][0])"
   ]
  },
  {
   "cell_type": "code",
   "execution_count": 26,
   "metadata": {},
   "outputs": [
    {
     "name": "stdout",
     "output_type": "stream",
     "text": [
      "customer2 ->  [0.0976853357725475, 'Bekasi_Hub'] -> [[0.10503934961719769, 'Cakung_Hub'], [0.01740277569815172, 'Cakung_Wh']]\n",
      "total cost: 0.2201274610878969\n"
     ]
    }
   ],
   "source": [
    "#customer 2\n",
    "customer2 = []\n",
    "if hubToHub[3][1] < hubToWhouse[3][0]:\n",
    "    customer2.append(hubToHub[3][1])\n",
    "    \n",
    "    if hubToHub[2][1] < hubToWhouse[2][0]:\n",
    "        print('error')\n",
    "    else: \n",
    "        customer2.append(hubToWhouse[2][0])\n",
    "#print(customer2)\n",
    "print('customer2 -> ', nearestFromCustomer[1], '->', customer2)\n",
    "#print(customer2[0][0])\n",
    "#print(customer2[1][0])\n",
    "print('total cost:',nearestFromCustomer[1][0] + customer2[0][0] + customer2[1][0])"
   ]
  },
  {
   "cell_type": "code",
   "execution_count": 27,
   "metadata": {},
   "outputs": [
    {
     "name": "stdout",
     "output_type": "stream",
     "text": [
      "customer3 ->  [0.8578521031926291, 'Bogor Citereup_Hub'] -> [[0.25596334318218267, 'Cawang_Hub'], [0.023223714969834844, 'Cawang_Wh']]\n",
      "total cost: 1.1370391613446467\n"
     ]
    }
   ],
   "source": [
    "#customer 3\n",
    "customer3 = []\n",
    "if hubToHub[4][1] < hubToWhouse[4][0]:\n",
    "    customer3.append(hubToHub[4][1])\n",
    "    \n",
    "    if hubToHub[1][1] < hubToWhouse[1][0]:\n",
    "        print('error')\n",
    "    else: \n",
    "        customer3.append(hubToWhouse[1][0])\n",
    "#print(customer2)\n",
    "print('customer3 -> ', nearestFromCustomer[2], '->', customer3)\n",
    "#print(customer2[0][0])\n",
    "#print(customer2[1][0])\n",
    "print('total cost:',nearestFromCustomer[2][0] + customer3[0][0] + customer3[1][0])"
   ]
  },
  {
   "cell_type": "code",
   "execution_count": 28,
   "metadata": {
    "scrolled": true
   },
   "outputs": [
    {
     "name": "stdout",
     "output_type": "stream",
     "text": [
      "customer4 ->  [0.03406567985524908, 'Angke_Hub'] -> [[0.1255514454078526, 'Cawang_Hub'], [0.023223714969834844, 'Cawang_Wh']]\n",
      "total cost: 0.1828408402329365\n"
     ]
    }
   ],
   "source": [
    "#customer 4\n",
    "customer4 = []\n",
    "if hubToHub[0][1] < hubToWhouse[0][0]:\n",
    "    customer4.append(hubToHub[0][1])\n",
    "    \n",
    "    if hubToHub[1][1] < hubToWhouse[1][0]:\n",
    "        print('error')\n",
    "    else: \n",
    "        customer4.append(hubToWhouse[1][0])\n",
    "#print(customer2)\n",
    "print('customer4 -> ', nearestFromCustomer[3], '->', customer4)\n",
    "#print(customer2[0][0])\n",
    "#print(customer2[1][0])\n",
    "print('total cost:',nearestFromCustomer[3][0] + customer4[0][0] + customer4[1][0])"
   ]
  },
  {
   "cell_type": "code",
   "execution_count": 29,
   "metadata": {},
   "outputs": [
    {
     "name": "stdout",
     "output_type": "stream",
     "text": [
      "customer5 ->  [0.03308948681984957, 'Angke_Hub'] -> [[0.1255514454078526, 'Cawang_Hub'], [0.023223714969834844, 'Cawang_Wh']]\n",
      "total cost: 0.18186464719753703\n"
     ]
    }
   ],
   "source": [
    "#customer 5\n",
    "customer5 = []\n",
    "if hubToHub[0][1] < hubToWhouse[0][0]:\n",
    "    customer5.append(hubToHub[0][1])\n",
    "    \n",
    "    if hubToHub[1][1] < hubToWhouse[1][0]:\n",
    "        print('error')\n",
    "    else: \n",
    "        customer5.append(hubToWhouse[1][0])\n",
    "#print(customer2)\n",
    "print('customer5 -> ', nearestFromCustomer[4], '->', customer5)\n",
    "#print(customer2[0][0])\n",
    "#print(customer2[1][0])\n",
    "print('total cost:',nearestFromCustomer[4][0] + customer5[0][0] + customer5[1][0])"
   ]
  },
  {
   "cell_type": "code",
   "execution_count": 30,
   "metadata": {},
   "outputs": [
    {
     "name": "stdout",
     "output_type": "stream",
     "text": [
      "customer6 ->  [0.045997884668762465, 'Angke_Hub'] -> [[0.1255514454078526, 'Cawang_Hub'], [0.023223714969834844, 'Cawang_Wh']]\n",
      "total cost: 0.19477304504644988\n"
     ]
    }
   ],
   "source": [
    "#customer 6\n",
    "customer6 = []\n",
    "if hubToHub[0][1] < hubToWhouse[0][0]:\n",
    "    customer6.append(hubToHub[0][1])\n",
    "    \n",
    "    if hubToHub[1][1] < hubToWhouse[1][0]:\n",
    "        print('error')\n",
    "    else: \n",
    "        customer6.append(hubToWhouse[1][0])\n",
    "#print(customer2)\n",
    "print('customer6 -> ', nearestFromCustomer[5], '->', customer6)\n",
    "#print(customer2[0][0])\n",
    "#print(customer2[1][0])\n",
    "print('total cost:',nearestFromCustomer[5][0] + customer6[0][0] + customer6[1][0])"
   ]
  },
  {
   "cell_type": "code",
   "execution_count": 31,
   "metadata": {},
   "outputs": [
    {
     "name": "stdout",
     "output_type": "stream",
     "text": [
      "customer7 ->  [0.062281733325279545, 'Angke_Hub'] -> [[0.1255514454078526, 'Cawang_Hub'], [0.023223714969834844, 'Cawang_Wh']]\n",
      "total cost: 0.21105689370296699\n"
     ]
    }
   ],
   "source": [
    "#customer 7\n",
    "customer7 = []\n",
    "if hubToHub[0][1] < hubToWhouse[0][0]:\n",
    "    customer7.append(hubToHub[0][1])\n",
    "    \n",
    "    if hubToHub[1][1] < hubToWhouse[1][0]:\n",
    "        print('error')\n",
    "    else: \n",
    "        customer7.append(hubToWhouse[1][0])\n",
    "#print(customer2)\n",
    "print('customer7 -> ', nearestFromCustomer[6], '->', customer7)\n",
    "#print(customer2[0][0])\n",
    "#print(customer2[1][0])\n",
    "print('total cost:',nearestFromCustomer[6][0] + customer7[0][0] + customer7[1][0])"
   ]
  },
  {
   "cell_type": "code",
   "execution_count": 32,
   "metadata": {},
   "outputs": [
    {
     "name": "stdout",
     "output_type": "stream",
     "text": [
      "customer 8 ->  [[0.056527354528575664, 'Cawang_Hub']] -> [0.023223714969834844, 'Cawang_Wh']\n"
     ]
    }
   ],
   "source": [
    "#customer 8\n",
    "customer8 = []\n",
    "#print(customerHub[7][0])\n",
    "customer8.append(customerHub[7][0])\n",
    "print('customer 8 -> ', customer8, '->', hubToWhouse[1][0])\n"
   ]
  },
  {
   "cell_type": "code",
   "execution_count": 33,
   "metadata": {},
   "outputs": [
    {
     "name": "stdout",
     "output_type": "stream",
     "text": [
      "customer 9 ->  [[0.014471130743663081, 'Cawang_Hub']] -> [0.023223714969834844, 'Cawang_Wh']\n"
     ]
    }
   ],
   "source": [
    "#customer 9\n",
    "customer9 = []\n",
    "#print(customerHub[7][0])\n",
    "customer9.append(customerHub[8][0])\n",
    "print('customer 9 -> ', customer9, '->', hubToWhouse[1][0])"
   ]
  },
  {
   "cell_type": "code",
   "execution_count": 34,
   "metadata": {},
   "outputs": [
    {
     "name": "stdout",
     "output_type": "stream",
     "text": [
      "customer10 ->  [0.008492862002875818, 'Angke_Hub'] -> [[0.1255514454078526, 'Cawang_Hub'], [0.023223714969834844, 'Cawang_Wh']]\n",
      "total cost: 0.15726802238056325\n"
     ]
    }
   ],
   "source": [
    "#customer 10\n",
    "customer10 = []\n",
    "if hubToHub[0][1] < hubToWhouse[0][0]:\n",
    "    customer10.append(hubToHub[0][1])\n",
    "    \n",
    "    if hubToHub[1][1] < hubToWhouse[1][0]:\n",
    "        print('error')\n",
    "    else: \n",
    "        customer10.append(hubToWhouse[1][0])\n",
    "#print(customer2)\n",
    "print('customer10 -> ', nearestFromCustomer[9], '->', customer10)\n",
    "#print(customer2[0][0])\n",
    "#print(customer2[1][0])\n",
    "print('total cost:',nearestFromCustomer[9][0] + customer10[0][0] + customer10[1][0])"
   ]
  },
  {
   "cell_type": "code",
   "execution_count": 35,
   "metadata": {},
   "outputs": [
    {
     "name": "stdout",
     "output_type": "stream",
     "text": [
      "customer11 ->  [0.041722624318207994, 'Cakung_Hub'] -> [[0.01740277569815172, 'Cakung_Wh']]\n",
      "total cost: 0.059125400016359714\n"
     ]
    }
   ],
   "source": [
    "#customer 11\n",
    "customer11 = []\n",
    "if hubToHub[2][1] < hubToWhouse[2][0]:\n",
    "    print('error')\n",
    "else: \n",
    "    customer11.append(hubToWhouse[2][0])\n",
    "#print(customer1)\n",
    "print('customer11 -> ', nearestFromCustomer[10], '->', customer11)\n",
    "print('total cost:',nearestFromCustomer[10][0] + customer11[0][0])"
   ]
  },
  {
   "cell_type": "code",
   "execution_count": 36,
   "metadata": {},
   "outputs": [
    {
     "name": "stdout",
     "output_type": "stream",
     "text": [
      "customer12 ->  [0.06635384890871127, 'Cawang_Hub'] -> [[0.023223714969834844, 'Cawang_Wh']]\n",
      "total cost: 0.08957756387854611\n"
     ]
    }
   ],
   "source": [
    "#customer 12\n",
    "customer12 = []\n",
    "if hubToHub[1][1] < hubToWhouse[1][0]:\n",
    "    print('error')\n",
    "else: \n",
    "    customer12.append(hubToWhouse[1][0])\n",
    "#print(customer1)\n",
    "print('customer12 -> ', nearestFromCustomer[11], '->', customer12)\n",
    "print('total cost:',nearestFromCustomer[11][0] + customer12[0][0])"
   ]
  },
  {
   "cell_type": "code",
   "execution_count": 37,
   "metadata": {},
   "outputs": [
    {
     "name": "stdout",
     "output_type": "stream",
     "text": [
      "customer13 ->  [0.05129073932982752, 'Cawang_Hub'] -> [[0.023223714969834844, 'Cawang_Wh']]\n",
      "total cost: 0.07451445429966236\n"
     ]
    }
   ],
   "source": [
    "#customer 13\n",
    "customer13 = []\n",
    "if hubToHub[1][1] < hubToWhouse[1][0]:\n",
    "    print('error')\n",
    "else: \n",
    "    customer13.append(hubToWhouse[1][0])\n",
    "#print(customer1)\n",
    "print('customer13 -> ', nearestFromCustomer[12], '->', customer13)\n",
    "print('total cost:',nearestFromCustomer[12][0] + customer13[0][0])"
   ]
  },
  {
   "cell_type": "code",
   "execution_count": 38,
   "metadata": {},
   "outputs": [
    {
     "name": "stdout",
     "output_type": "stream",
     "text": [
      "customer14 ->  [0.031082859344025198, 'Angke_Hub'] -> [[0.1255514454078526, 'Cawang_Hub'], [0.023223714969834844, 'Cawang_Wh']]\n",
      "total cost: 0.17985801972171261\n"
     ]
    }
   ],
   "source": [
    "#customer 14\n",
    "customer14 = []\n",
    "if hubToHub[0][1] < hubToWhouse[0][0]:\n",
    "    customer14.append(hubToHub[0][1])\n",
    "    \n",
    "    if hubToHub[1][1] < hubToWhouse[1][0]:\n",
    "        print('error')\n",
    "    else: \n",
    "        customer14.append(hubToWhouse[1][0])\n",
    "#print(customer2)\n",
    "print('customer14 -> ', nearestFromCustomer[13], '->', customer14)\n",
    "#print(customer2[0][0])\n",
    "#print(customer2[1][0])\n",
    "print('total cost:',nearestFromCustomer[13][0] + customer14[0][0] + customer14[1][0])"
   ]
  },
  {
   "cell_type": "code",
   "execution_count": 39,
   "metadata": {},
   "outputs": [
    {
     "name": "stdout",
     "output_type": "stream",
     "text": [
      "customer15 ->  [0.026749032748872963, 'Cawang_Hub'] -> [[0.023223714969834844, 'Cawang_Wh']]\n",
      "total cost: 0.049972747718707806\n"
     ]
    }
   ],
   "source": [
    "#customer 15\n",
    "customer15 = []\n",
    "if hubToHub[1][1] < hubToWhouse[1][0]:\n",
    "    print('error')\n",
    "else: \n",
    "    customer15.append(hubToWhouse[1][0])\n",
    "#print(customer1)\n",
    "print('customer15 -> ', nearestFromCustomer[14], '->', customer15)\n",
    "print('total cost:',nearestFromCustomer[14][0] + customer15[0][0])"
   ]
  },
  {
   "cell_type": "code",
   "execution_count": 40,
   "metadata": {},
   "outputs": [
    {
     "name": "stdout",
     "output_type": "stream",
     "text": [
      "customer16 ->  [0.027509777552728657, 'Cawang_Hub'] -> [[0.023223714969834844, 'Cawang_Wh']]\n",
      "total cost: 0.0507334925225635\n"
     ]
    }
   ],
   "source": [
    "#customer 16\n",
    "customer16 = []\n",
    "if hubToHub[1][1] < hubToWhouse[1][0]:\n",
    "    print('error')\n",
    "else: \n",
    "    customer16.append(hubToWhouse[1][0])\n",
    "#print(customer1)\n",
    "print('customer16 -> ', nearestFromCustomer[15], '->', customer16)\n",
    "print('total cost:',nearestFromCustomer[15][0] + customer16[0][0])"
   ]
  },
  {
   "cell_type": "code",
   "execution_count": 41,
   "metadata": {},
   "outputs": [
    {
     "name": "stdout",
     "output_type": "stream",
     "text": [
      "customer17 ->  [0.09364758399980186, 'Cawang_Hub'] -> [[0.023223714969834844, 'Cawang_Wh']]\n",
      "total cost: 0.1168712989696367\n"
     ]
    }
   ],
   "source": [
    "#customer 17\n",
    "customer17 = []\n",
    "if hubToHub[1][1] < hubToWhouse[1][0]:\n",
    "    print('error')\n",
    "else: \n",
    "    customer17.append(hubToWhouse[1][0])\n",
    "#print(customer1)\n",
    "print('customer17 -> ', nearestFromCustomer[16], '->', customer17)\n",
    "print('total cost:',nearestFromCustomer[16][0] + customer17[0][0])"
   ]
  },
  {
   "cell_type": "code",
   "execution_count": 42,
   "metadata": {},
   "outputs": [
    {
     "name": "stdout",
     "output_type": "stream",
     "text": [
      "customer18 ->  [0.10241815031525268, 'Angke_Hub'] -> [[0.1255514454078526, 'Cawang_Hub'], [0.023223714969834844, 'Cawang_Wh']]\n",
      "total cost: 0.2511933106929401\n"
     ]
    }
   ],
   "source": [
    "#customer 18\n",
    "customer18 = []\n",
    "if hubToHub[0][1] < hubToWhouse[0][0]:\n",
    "    customer18.append(hubToHub[0][1])\n",
    "    \n",
    "    if hubToHub[1][1] < hubToWhouse[1][0]:\n",
    "        print('error')\n",
    "    else: \n",
    "        customer18.append(hubToWhouse[1][0])\n",
    "#print(customer2)\n",
    "print('customer18 -> ', customerHub[17][0], '->', customer18)\n",
    "#print(customer2[0][0])\n",
    "#print(customer2[1][0])\n",
    "print('total cost:', customerHub[17][0][0] + customer18[0][0] + customer18[1][0])"
   ]
  },
  {
   "cell_type": "code",
   "execution_count": 43,
   "metadata": {},
   "outputs": [
    {
     "name": "stdout",
     "output_type": "stream",
     "text": [
      "customer19 ->  [0.0496342602846008, 'Angke_Hub'] -> [[0.1255514454078526, 'Cawang_Hub'], [0.023223714969834844, 'Cawang_Wh']]\n",
      "total cost: 0.19840942066228823\n"
     ]
    }
   ],
   "source": [
    "#customer 19\n",
    "customer19 = []\n",
    "if hubToHub[0][1] < hubToWhouse[0][0]:\n",
    "    customer19.append(hubToHub[0][1])\n",
    "    \n",
    "    if hubToHub[1][1] < hubToWhouse[1][0]:\n",
    "        print('error')\n",
    "    else: \n",
    "        customer19.append(hubToWhouse[1][0])\n",
    "#print(customer2)\n",
    "print('customer19 -> ', nearestFromCustomer[18], '->', customer19)\n",
    "#print(customer2[0][0])\n",
    "#print(customer2[1][0])\n",
    "print('total cost:',nearestFromCustomer[18][0] + customer19[0][0] + customer19[1][0])"
   ]
  },
  {
   "cell_type": "code",
   "execution_count": 44,
   "metadata": {},
   "outputs": [
    {
     "name": "stdout",
     "output_type": "stream",
     "text": [
      "customer20 ->  [0.07380264363828443, 'Angke_Hub'] -> [[0.1255514454078526, 'Cawang_Hub'], [0.023223714969834844, 'Cawang_Wh']]\n",
      "total cost: 0.22257780401597188\n"
     ]
    }
   ],
   "source": [
    "#customer 20\n",
    "customer20 = []\n",
    "if hubToHub[0][1] < hubToWhouse[0][0]:\n",
    "    customer20.append(hubToHub[0][1])\n",
    "    \n",
    "    if hubToHub[1][1] < hubToWhouse[1][0]:\n",
    "        print('error')\n",
    "    else: \n",
    "        customer20.append(hubToWhouse[1][0])\n",
    "#print(customer2)\n",
    "print('customer20 -> ', nearestFromCustomer[19], '->', customer20)\n",
    "#print(customer2[0][0])\n",
    "#print(customer2[1][0])\n",
    "print('total cost:',nearestFromCustomer[19][0] + customer20[0][0] + customer20[1][0])"
   ]
  },
  {
   "cell_type": "code",
   "execution_count": 45,
   "metadata": {},
   "outputs": [
    {
     "name": "stdout",
     "output_type": "stream",
     "text": [
      "customer21 ->  [0.06716693073976451, 'Angke_Hub'] -> [[0.1255514454078526, 'Cawang_Hub'], [0.023223714969834844, 'Cawang_Wh']]\n",
      "total cost: 0.21594209111745194\n"
     ]
    }
   ],
   "source": [
    "#customer 21\n",
    "customer21 = []\n",
    "if hubToHub[0][1] < hubToWhouse[0][0]:\n",
    "    customer21.append(hubToHub[0][1])\n",
    "    \n",
    "    if hubToHub[1][1] < hubToWhouse[1][0]:\n",
    "        print('error')\n",
    "    else: \n",
    "        customer21.append(hubToWhouse[1][0])\n",
    "#print(customer2)\n",
    "print('customer21 -> ', nearestFromCustomer[20], '->', customer21)\n",
    "#print(customer2[0][0])\n",
    "#print(customer2[1][0])\n",
    "print('total cost:',nearestFromCustomer[20][0] + customer21[0][0] + customer21[1][0])"
   ]
  },
  {
   "cell_type": "code",
   "execution_count": 46,
   "metadata": {},
   "outputs": [
    {
     "name": "stdout",
     "output_type": "stream",
     "text": [
      "customer22 ->  [0.060626120748384575, 'Cakung_Hub'] -> [[0.01740277569815172, 'Cakung_Wh']]\n",
      "total cost: 0.0780288964465363\n"
     ]
    }
   ],
   "source": [
    "#customer 22\n",
    "customer22 = []\n",
    "if hubToHub[2][1] < hubToWhouse[2][0]:\n",
    "    print('error')\n",
    "else: \n",
    "    customer22.append(hubToWhouse[2][0])\n",
    "#print(customer1)\n",
    "print('customer22 -> ', nearestFromCustomer[21], '->', customer22)\n",
    "print('total cost:',nearestFromCustomer[21][0] + customer22[0][0])"
   ]
  },
  {
   "cell_type": "code",
   "execution_count": 47,
   "metadata": {},
   "outputs": [
    {
     "name": "stdout",
     "output_type": "stream",
     "text": [
      "customer23 ->  [0.027566935883416573, 'Angke_Hub'] -> [[0.1255514454078526, 'Cawang_Hub'], [0.023223714969834844, 'Cawang_Wh']]\n",
      "total cost: 0.17634209626110403\n"
     ]
    }
   ],
   "source": [
    "#customer 23\n",
    "customer23 = []\n",
    "if hubToHub[0][1] < hubToWhouse[0][0]:\n",
    "    customer23.append(hubToHub[0][1])\n",
    "    \n",
    "    if hubToHub[1][1] < hubToWhouse[1][0]:\n",
    "        print('error')\n",
    "    else: \n",
    "        customer23.append(hubToWhouse[1][0])\n",
    "#print(customer2)\n",
    "print('customer23 -> ', nearestFromCustomer[22], '->', customer23)\n",
    "#print(customer2[0][0])\n",
    "#print(customer2[1][0])\n",
    "print('total cost:',nearestFromCustomer[22][0] + customer23[0][0] + customer23[1][0])"
   ]
  },
  {
   "cell_type": "code",
   "execution_count": 48,
   "metadata": {},
   "outputs": [
    {
     "name": "stdout",
     "output_type": "stream",
     "text": [
      "customer24 ->  [0.9759274483551764, 'Bogor Citereup_Hub'] -> [[0.25596334318218267, 'Cawang_Hub'], [0.023223714969834844, 'Cawang_Wh']]\n",
      "total cost: 1.255114506507194\n"
     ]
    }
   ],
   "source": [
    "#customer 24\n",
    "customer24 = []\n",
    "if hubToHub[4][1] < hubToWhouse[4][0]:\n",
    "    customer24.append(hubToHub[4][1])\n",
    "    \n",
    "    if hubToHub[1][1] < hubToWhouse[1][0]:\n",
    "        print('error')\n",
    "    else: \n",
    "        customer24.append(hubToWhouse[1][0])\n",
    "#print(customer2)\n",
    "print('customer24 -> ', nearestFromCustomer[23], '->', customer24)\n",
    "#print(customer2[0][0])\n",
    "#print(customer2[1][0])\n",
    "print('total cost:',nearestFromCustomer[23][0] + customer24[0][0] + customer24[1][0])"
   ]
  },
  {
   "cell_type": "code",
   "execution_count": 49,
   "metadata": {},
   "outputs": [
    {
     "name": "stdout",
     "output_type": "stream",
     "text": [
      "customer25 ->  [0.10812728218169232, 'Cawang_Hub'] -> [[0.023223714969834844, 'Cawang_Wh']]\n",
      "total cost: 0.13135099715152715\n"
     ]
    }
   ],
   "source": [
    "#customer 25\n",
    "customer25 = []\n",
    "if hubToHub[1][1] < hubToWhouse[1][0]:\n",
    "    print('error')\n",
    "else: \n",
    "    customer25.append(hubToWhouse[1][0])\n",
    "#print(customer1)\n",
    "print('customer25 -> ', nearestFromCustomer[24], '->', customer25)\n",
    "print('total cost:',nearestFromCustomer[24][0] + customer25[0][0])"
   ]
  },
  {
   "cell_type": "code",
   "execution_count": 50,
   "metadata": {},
   "outputs": [
    {
     "name": "stdout",
     "output_type": "stream",
     "text": [
      "customer26 ->  [0.07125011815429412, 'Cawang_Hub'] -> [[0.023223714969834844, 'Cawang_Wh']]\n",
      "total cost: 0.09447383312412896\n"
     ]
    }
   ],
   "source": [
    "#customer 26\n",
    "customer26 = []\n",
    "if hubToHub[1][1] < hubToWhouse[1][0]:\n",
    "    print('error')\n",
    "else: \n",
    "    customer26.append(hubToWhouse[1][0])\n",
    "#print(customer1)\n",
    "print('customer26 -> ', nearestFromCustomer[25], '->', customer26)\n",
    "print('total cost:',nearestFromCustomer[25][0] + customer26[0][0])"
   ]
  },
  {
   "cell_type": "code",
   "execution_count": 51,
   "metadata": {},
   "outputs": [
    {
     "name": "stdout",
     "output_type": "stream",
     "text": [
      "customer27 ->  [0.10954252799712948, 'Cawang_Hub'] -> [[0.023223714969834844, 'Cawang_Wh']]\n",
      "total cost: 0.13276624296696432\n"
     ]
    }
   ],
   "source": [
    "#customer 27\n",
    "customer27 = []\n",
    "if hubToHub[1][1] < hubToWhouse[1][0]:\n",
    "    print('error')\n",
    "else: \n",
    "    customer27.append(hubToWhouse[1][0])\n",
    "#print(customer1)\n",
    "print('customer27 -> ', nearestFromCustomer[26], '->', customer27)\n",
    "print('total cost:',nearestFromCustomer[26][0] + customer27[0][0])"
   ]
  },
  {
   "cell_type": "code",
   "execution_count": 52,
   "metadata": {},
   "outputs": [
    {
     "name": "stdout",
     "output_type": "stream",
     "text": [
      "customer28 ->  [0.49737636525372736, 'Karawaci_Hub'] -> [[0.018328036583331906, 'Karawaci_Wh']]\n",
      "total cost: 0.5157044018370592\n"
     ]
    }
   ],
   "source": [
    "#customer 28\n",
    "customer28 = []\n",
    "if hubToHub[5][1] < hubToWhouse[5][0]:\n",
    "    print('error')\n",
    "else: \n",
    "    customer28.append(hubToWhouse[5][0])\n",
    "#print(customer1)\n",
    "print('customer28 -> ', nearestFromCustomer[27], '->', customer28)\n",
    "print('total cost:',nearestFromCustomer[27][0] + customer28[0][0])"
   ]
  },
  {
   "cell_type": "code",
   "execution_count": 53,
   "metadata": {},
   "outputs": [
    {
     "name": "stdout",
     "output_type": "stream",
     "text": [
      "customer29 ->  [0.07753102710527557, 'Angke_Hub'] -> [[0.1255514454078526, 'Cawang_Hub'], [0.023223714969834844, 'Cawang_Wh']]\n",
      "total cost: 0.226306187482963\n"
     ]
    }
   ],
   "source": [
    "#customer 29\n",
    "customer29 = []\n",
    "if hubToHub[0][1] < hubToWhouse[0][0]:\n",
    "    customer29.append(hubToHub[0][1])\n",
    "    \n",
    "    if hubToHub[1][1] < hubToWhouse[1][0]:\n",
    "        print('error')\n",
    "    else: \n",
    "        customer29.append(hubToWhouse[1][0])\n",
    "#print(customer2)\n",
    "print('customer29 -> ', customerHub[28][0], '->', customer29)\n",
    "#print(customer2[0][0])\n",
    "#print(customer2[1][0])\n",
    "print('total cost:', customerHub[28][0][0] + customer29[0][0] + customer29[1][0])"
   ]
  },
  {
   "cell_type": "code",
   "execution_count": 54,
   "metadata": {},
   "outputs": [
    {
     "name": "stdout",
     "output_type": "stream",
     "text": [
      "customer30 ->  [0.07583800053403195, 'Angke_Hub'] -> [[0.1255514454078526, 'Cawang_Hub'], [0.023223714969834844, 'Cawang_Wh']]\n",
      "total cost: 0.2246131609117194\n"
     ]
    }
   ],
   "source": [
    "#customer 30\n",
    "customer30 = []\n",
    "if hubToHub[0][1] < hubToWhouse[0][0]:\n",
    "    customer30.append(hubToHub[0][1])\n",
    "    \n",
    "    if hubToHub[1][1] < hubToWhouse[1][0]:\n",
    "        print('error')\n",
    "    else: \n",
    "        customer30.append(hubToWhouse[1][0])\n",
    "#print(customer2)\n",
    "print('customer30 -> ', customerHub[29][0], '->', customer30)\n",
    "#print(customer2[0][0])\n",
    "#print(customer2[1][0])\n",
    "print('total cost:', customerHub[29][0][0] + customer30[0][0] + customer30[1][0])"
   ]
  }
 ],
 "metadata": {
  "kernelspec": {
   "display_name": "Python 3",
   "language": "python",
   "name": "python3"
  },
  "language_info": {
   "codemirror_mode": {
    "name": "ipython",
    "version": 3
   },
   "file_extension": ".py",
   "mimetype": "text/x-python",
   "name": "python",
   "nbconvert_exporter": "python",
   "pygments_lexer": "ipython3",
   "version": "3.7.4"
  }
 },
 "nbformat": 4,
 "nbformat_minor": 2
}
